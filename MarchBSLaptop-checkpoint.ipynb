{
 "cells": [
  {
   "cell_type": "code",
   "execution_count": 70,
   "metadata": {},
   "outputs": [],
   "source": [
    "import requests as req\n",
    "from bs4 import BeautifulSoup as soup\n",
    "import re"
   ]
  },
  {
   "cell_type": "code",
   "execution_count": 2,
   "metadata": {},
   "outputs": [],
   "source": [
    "url = (\"https://www.spareroom.co.uk/flatshare/?search_id=944211652&\")"
   ]
  },
  {
   "cell_type": "code",
   "execution_count": 3,
   "metadata": {},
   "outputs": [],
   "source": [
    "def upload(url, parser = 'html.parser'):\n",
    "    conn = req.get(url)\n",
    "    global content\n",
    "    content = soup(conn.text, parser)\n",
    "    print(conn)\n",
    "    \n"
   ]
  },
  {
   "cell_type": "code",
   "execution_count": 4,
   "metadata": {},
   "outputs": [
    {
     "name": "stdout",
     "output_type": "stream",
     "text": [
      "<Response [200]>\n"
     ]
    }
   ],
   "source": [
    "upload(url)"
   ]
  },
  {
   "cell_type": "code",
   "execution_count": 5,
   "metadata": {},
   "outputs": [],
   "source": [
    "prices = []\n",
    "des = []\n",
    "bills = []\n"
   ]
  },
  {
   "cell_type": "code",
   "execution_count": 86,
   "metadata": {},
   "outputs": [],
   "source": [
    "roomt = [\"doubles\",\"room\"]"
   ]
  },
  {
   "cell_type": "code",
   "execution_count": 6,
   "metadata": {},
   "outputs": [],
   "source": [
    "list_result = content.find_all(\"li\",attrs={'class': \"listing-result\"})"
   ]
  },
  {
   "cell_type": "code",
   "execution_count": 7,
   "metadata": {},
   "outputs": [],
   "source": [
    "for i in list_result:\n",
    "    p = content.find_all(\"strong\", attrs={'class': \"listingPrice\"})\n",
    "    d = content.find_all(\"em\", attrs={'class': \"shortDescription\"} )\n",
    "    b = content.find_all(\"em\", attrs={'class': \"listingPriceDetails\"} )\n",
    "    "
   ]
  },
  {
   "cell_type": "code",
   "execution_count": 8,
   "metadata": {},
   "outputs": [],
   "source": [
    "for i in range(0,len(p),2 ):\n",
    "    prices.append(p[i].text)\n",
    "    des.append(d[i].text)\n",
    "    bills.append(b[i].text)\n"
   ]
  },
  {
   "cell_type": "code",
   "execution_count": 9,
   "metadata": {
    "scrolled": true
   },
   "outputs": [
    {
     "name": "stdout",
     "output_type": "stream",
     "text": [
      "£215- £265pw 2 doublesBow (E3) \n",
      "£760pcm Double roomMile End (E3) \n",
      "£200- £220pw 3 doublesMile End (E3) Bills inc.\n",
      "£150- £160pw 2 doublesMile End (E3) Bills inc.\n",
      "£152- £179pw 2 doublesMile End (E3) Bills inc.\n",
      "£200pw Double roomMile End (E3) Bills inc.\n",
      "£671pcm Double roomMile End (E3) \n",
      "£600pcm Double roomMile End (E3) \n",
      "£210- £230pw 3 doublesMile End (E3) Bills inc.\n",
      "£190- £220pw 3 doublesBow (E3) Bills inc.\n",
      "£230pw Double roomBow (E3) \n"
     ]
    }
   ],
   "source": [
    "for i in range(len(des)):\n",
    "    print(prices[i],des[i],bills[i])\n",
    "\n",
    "\n"
   ]
  },
  {
   "cell_type": "code",
   "execution_count": 38,
   "metadata": {},
   "outputs": [
    {
     "ename": "NameError",
     "evalue": "name 'idd' is not defined",
     "output_type": "error",
     "traceback": [
      "\u001b[1;31m---------------------------------------------------------------------------\u001b[0m",
      "\u001b[1;31mNameError\u001b[0m                                 Traceback (most recent call last)",
      "\u001b[1;32m<ipython-input-38-1b263b21fad0>\u001b[0m in \u001b[0;36m<module>\u001b[1;34m()\u001b[0m\n\u001b[0;32m      3\u001b[0m         \u001b[1;34m\"Price\"\u001b[0m\u001b[1;33m:\u001b[0m\u001b[0mprices\u001b[0m\u001b[1;33m[\u001b[0m\u001b[0mi\u001b[0m\u001b[1;33m]\u001b[0m\u001b[1;33m,\u001b[0m\u001b[1;33m\u001b[0m\u001b[0m\n\u001b[0;32m      4\u001b[0m         \u001b[1;34m\"des\"\u001b[0m\u001b[1;33m:\u001b[0m \u001b[0mdes\u001b[0m\u001b[1;33m[\u001b[0m\u001b[0mi\u001b[0m\u001b[1;33m]\u001b[0m\u001b[1;33m,\u001b[0m\u001b[1;33m\u001b[0m\u001b[0m\n\u001b[1;32m----> 5\u001b[1;33m         \u001b[1;34m\"bills\"\u001b[0m\u001b[1;33m:\u001b[0m \u001b[0mbills\u001b[0m\u001b[1;33m[\u001b[0m\u001b[0mi\u001b[0m\u001b[1;33m]\u001b[0m\u001b[1;33m\u001b[0m\u001b[0m\n\u001b[0m\u001b[0;32m      6\u001b[0m     }\n\u001b[0;32m      7\u001b[0m \u001b[1;33m\u001b[0m\u001b[0m\n",
      "\u001b[1;31mNameError\u001b[0m: name 'idd' is not defined"
     ]
    }
   ],
   "source": [
    "for i in range(len(des)):\n",
    "    idd[i] = {\n",
    "        \"Price\":prices[i],\n",
    "        \"des\": des[i],\n",
    "        \"bills\": bills[i]\n",
    "    }\n",
    "    "
   ]
  },
  {
   "cell_type": "code",
   "execution_count": 39,
   "metadata": {},
   "outputs": [],
   "source": [
    "class house:\n",
    "      def __init__(self,price,des,bills):\n",
    "\n",
    "#     def __init__(self,price,des,bills, n_dbed,n_sbed, sqft,postcode,dis_tube,n_bath):\n",
    "        self.price = price\n",
    "        self.des = des\n",
    "        self.bills = bills\n",
    "#         self.n_dbed = n_dbed\n",
    "#         self.n_sbed = n_sbed\n",
    "#         self.beds = self.n_dbed+self.n_sbed\n",
    "#         self.sqft = sqft\n",
    "#         self.postcode = postcode\n"
   ]
  },
  {
   "cell_type": "code",
   "execution_count": 21,
   "metadata": {
    "scrolled": true
   },
   "outputs": [
    {
     "ename": "NameError",
     "evalue": "name 'idd' is not defined",
     "output_type": "error",
     "traceback": [
      "\u001b[1;31m---------------------------------------------------------------------------\u001b[0m",
      "\u001b[1;31mNameError\u001b[0m                                 Traceback (most recent call last)",
      "\u001b[1;32m<ipython-input-21-39e8095c9682>\u001b[0m in \u001b[0;36m<module>\u001b[1;34m()\u001b[0m\n\u001b[1;32m----> 1\u001b[1;33m \u001b[1;32mfor\u001b[0m \u001b[0mi\u001b[0m \u001b[1;32min\u001b[0m \u001b[0mrange\u001b[0m\u001b[1;33m(\u001b[0m\u001b[0mlen\u001b[0m\u001b[1;33m(\u001b[0m \u001b[0midd\u001b[0m\u001b[1;33m.\u001b[0m\u001b[0mitems\u001b[0m\u001b[1;33m(\u001b[0m\u001b[1;33m)\u001b[0m\u001b[1;33m)\u001b[0m\u001b[1;33m)\u001b[0m\u001b[1;33m:\u001b[0m\u001b[1;33m\u001b[0m\u001b[0m\n\u001b[0m\u001b[0;32m      2\u001b[0m     \u001b[0mprint\u001b[0m\u001b[1;33m(\u001b[0m\u001b[0midd\u001b[0m\u001b[1;33m[\u001b[0m\u001b[0mi\u001b[0m\u001b[1;33m]\u001b[0m\u001b[1;33m.\u001b[0m\u001b[0mvalues\u001b[0m\u001b[1;33m(\u001b[0m\u001b[1;33m)\u001b[0m\u001b[1;33m)\u001b[0m\u001b[1;33m\u001b[0m\u001b[0m\n\u001b[0;32m      3\u001b[0m \u001b[1;33m\u001b[0m\u001b[0m\n",
      "\u001b[1;31mNameError\u001b[0m: name 'idd' is not defined"
     ]
    }
   ],
   "source": [
    "for i in range(len( idd.items())):\n",
    "    print(idd[i].values())\n",
    "    "
   ]
  },
  {
   "cell_type": "code",
   "execution_count": 40,
   "metadata": {},
   "outputs": [],
   "source": [
    "house_id = [\"h\"+ str(i) for i in range(len(des))]"
   ]
  },
  {
   "cell_type": "code",
   "execution_count": 41,
   "metadata": {},
   "outputs": [
    {
     "data": {
      "text/plain": [
       "['h0', 'h1', 'h2', 'h3', 'h4', 'h5', 'h6', 'h7', 'h8', 'h9', 'h10']"
      ]
     },
     "execution_count": 41,
     "metadata": {},
     "output_type": "execute_result"
    }
   ],
   "source": [
    "house_id"
   ]
  },
  {
   "cell_type": "code",
   "execution_count": 42,
   "metadata": {},
   "outputs": [],
   "source": [
    "db = zip(prices,des,bills)"
   ]
  },
  {
   "cell_type": "code",
   "execution_count": 43,
   "metadata": {},
   "outputs": [],
   "source": [
    "dbb = list(db)"
   ]
  },
  {
   "cell_type": "code",
   "execution_count": 44,
   "metadata": {},
   "outputs": [
    {
     "data": {
      "text/plain": [
       "[('£215- £265pw', '2 doublesBow (E3)', ''),\n",
       " ('£760pcm', 'Double roomMile End (E3)', ''),\n",
       " ('£200- £220pw', '3 doublesMile End (E3)', 'Bills inc.'),\n",
       " ('£150- £160pw', '2 doublesMile End (E3)', 'Bills inc.'),\n",
       " ('£152- £179pw', '2 doublesMile End (E3)', 'Bills inc.'),\n",
       " ('£200pw', 'Double roomMile End (E3)', 'Bills inc.'),\n",
       " ('£671pcm', 'Double roomMile End (E3)', ''),\n",
       " ('£600pcm', 'Double roomMile End (E3)', ''),\n",
       " ('£210- £230pw', '3 doublesMile End (E3)', 'Bills inc.'),\n",
       " ('£190- £220pw', '3 doublesBow (E3)', 'Bills inc.'),\n",
       " ('£230pw', 'Double roomBow (E3)', '')]"
      ]
     },
     "execution_count": 44,
     "metadata": {},
     "output_type": "execute_result"
    }
   ],
   "source": [
    "dbb"
   ]
  },
  {
   "cell_type": "code",
   "execution_count": 45,
   "metadata": {},
   "outputs": [
    {
     "data": {
      "text/plain": [
       "'£215- £265pw'"
      ]
     },
     "execution_count": 45,
     "metadata": {},
     "output_type": "execute_result"
    }
   ],
   "source": [
    "dbb[0][0]"
   ]
  },
  {
   "cell_type": "code",
   "execution_count": 30,
   "metadata": {},
   "outputs": [
    {
     "ename": "TypeError",
     "evalue": "__init__() missing 6 required positional arguments: 'n_dbed', 'n_sbed', 'sqft', 'postcode', 'dis_tube', and 'n_bath'",
     "output_type": "error",
     "traceback": [
      "\u001b[1;31m---------------------------------------------------------------------------\u001b[0m",
      "\u001b[1;31mTypeError\u001b[0m                                 Traceback (most recent call last)",
      "\u001b[1;32m<ipython-input-30-77c308db31e1>\u001b[0m in \u001b[0;36m<module>\u001b[1;34m()\u001b[0m\n\u001b[1;32m----> 1\u001b[1;33m \u001b[0mid_0\u001b[0m \u001b[1;33m=\u001b[0m \u001b[0mhouse\u001b[0m\u001b[1;33m(\u001b[0m\u001b[0mdbb\u001b[0m\u001b[1;33m[\u001b[0m\u001b[1;36m0\u001b[0m\u001b[1;33m]\u001b[0m\u001b[1;33m[\u001b[0m\u001b[1;36m0\u001b[0m\u001b[1;33m]\u001b[0m\u001b[1;33m,\u001b[0m\u001b[0mdbb\u001b[0m\u001b[1;33m[\u001b[0m\u001b[1;36m0\u001b[0m\u001b[1;33m]\u001b[0m\u001b[1;33m[\u001b[0m\u001b[1;36m1\u001b[0m\u001b[1;33m]\u001b[0m\u001b[1;33m,\u001b[0m\u001b[0mdbb\u001b[0m\u001b[1;33m[\u001b[0m\u001b[1;36m0\u001b[0m\u001b[1;33m]\u001b[0m\u001b[1;33m[\u001b[0m\u001b[1;36m2\u001b[0m\u001b[1;33m]\u001b[0m\u001b[1;33m)\u001b[0m\u001b[1;33m\u001b[0m\u001b[0m\n\u001b[0m",
      "\u001b[1;31mTypeError\u001b[0m: __init__() missing 6 required positional arguments: 'n_dbed', 'n_sbed', 'sqft', 'postcode', 'dis_tube', and 'n_bath'"
     ]
    }
   ],
   "source": [
    "id_0 = house(dbb[0][0],dbb[0][1],dbb[0][2])"
   ]
  },
  {
   "cell_type": "code",
   "execution_count": 31,
   "metadata": {},
   "outputs": [
    {
     "ename": "SyntaxError",
     "evalue": "invalid syntax (<ipython-input-31-e5f9710ee07a>, line 1)",
     "output_type": "error",
     "traceback": [
      "\u001b[1;36m  File \u001b[1;32m\"<ipython-input-31-e5f9710ee07a>\"\u001b[1;36m, line \u001b[1;32m1\u001b[0m\n\u001b[1;33m    id_0.bills  %s!\" % name)\u001b[0m\n\u001b[1;37m                  ^\u001b[0m\n\u001b[1;31mSyntaxError\u001b[0m\u001b[1;31m:\u001b[0m invalid syntax\n"
     ]
    }
   ],
   "source": [
    "id_0.bills  %s!\" % name)"
   ]
  },
  {
   "cell_type": "code",
   "execution_count": 32,
   "metadata": {},
   "outputs": [
    {
     "ename": "SyntaxError",
     "evalue": "can't assign to operator (<ipython-input-32-5fe7efb47d1d>, line 2)",
     "output_type": "error",
     "traceback": [
      "\u001b[1;36m  File \u001b[1;32m\"<ipython-input-32-5fe7efb47d1d>\"\u001b[1;36m, line \u001b[1;32m2\u001b[0m\n\u001b[1;33m    \"idd%s\" % i = house(dbb[i][0],dbb[i][1],dbb[i][2])\u001b[0m\n\u001b[1;37m    ^\u001b[0m\n\u001b[1;31mSyntaxError\u001b[0m\u001b[1;31m:\u001b[0m can't assign to operator\n"
     ]
    }
   ],
   "source": [
    "for i in range(len(dbb)):\n",
    "    \"idd%s\" % i = house(dbb[i][0],dbb[i][1],dbb[i][2])"
   ]
  },
  {
   "cell_type": "code",
   "execution_count": 33,
   "metadata": {},
   "outputs": [
    {
     "data": {
      "text/plain": [
       "[('£215- £265pw', '2 doublesBow (E3)', ''),\n",
       " ('£760pcm', 'Double roomMile End (E3)', ''),\n",
       " ('£200- £220pw', '3 doublesMile End (E3)', 'Bills inc.'),\n",
       " ('£150- £160pw', '2 doublesMile End (E3)', 'Bills inc.'),\n",
       " ('£152- £179pw', '2 doublesMile End (E3)', 'Bills inc.'),\n",
       " ('£200pw', 'Double roomMile End (E3)', 'Bills inc.'),\n",
       " ('£671pcm', 'Double roomMile End (E3)', ''),\n",
       " ('£600pcm', 'Double roomMile End (E3)', ''),\n",
       " ('£210- £230pw', '3 doublesMile End (E3)', 'Bills inc.'),\n",
       " ('£190- £220pw', '3 doublesBow (E3)', 'Bills inc.'),\n",
       " ('£230pw', 'Double roomBow (E3)', '')]"
      ]
     },
     "execution_count": 33,
     "metadata": {},
     "output_type": "execute_result"
    }
   ],
   "source": [
    "dbb"
   ]
  },
  {
   "cell_type": "code",
   "execution_count": 34,
   "metadata": {},
   "outputs": [
    {
     "ename": "NameError",
     "evalue": "name 'songNames' is not defined",
     "output_type": "error",
     "traceback": [
      "\u001b[1;31m---------------------------------------------------------------------------\u001b[0m",
      "\u001b[1;31mNameError\u001b[0m                                 Traceback (most recent call last)",
      "\u001b[1;32m<ipython-input-34-79442e2b1038>\u001b[0m in \u001b[0;36m<module>\u001b[1;34m()\u001b[0m\n\u001b[1;32m----> 1\u001b[1;33m \u001b[1;32mfor\u001b[0m \u001b[0mname\u001b[0m \u001b[1;32min\u001b[0m \u001b[0msongNames\u001b[0m\u001b[1;33m:\u001b[0m\u001b[1;33m\u001b[0m\u001b[0m\n\u001b[0m\u001b[0;32m      2\u001b[0m     \u001b[0msongs\u001b[0m\u001b[1;33m[\u001b[0m\u001b[0mname\u001b[0m\u001b[1;33m]\u001b[0m \u001b[1;33m=\u001b[0m \u001b[0mSong\u001b[0m\u001b[1;33m(\u001b[0m\u001b[0mname\u001b[0m\u001b[1;33m)\u001b[0m\u001b[1;33m\u001b[0m\u001b[0m\n",
      "\u001b[1;31mNameError\u001b[0m: name 'songNames' is not defined"
     ]
    }
   ],
   "source": [
    "for name in songNames:\n",
    "    songs[name] = Song(name)"
   ]
  },
  {
   "cell_type": "code",
   "execution_count": 35,
   "metadata": {},
   "outputs": [
    {
     "ename": "NameError",
     "evalue": "name 'songNames' is not defined",
     "output_type": "error",
     "traceback": [
      "\u001b[1;31m---------------------------------------------------------------------------\u001b[0m",
      "\u001b[1;31mNameError\u001b[0m                                 Traceback (most recent call last)",
      "\u001b[1;32m<ipython-input-35-4b98b4eacd2c>\u001b[0m in \u001b[0;36m<module>\u001b[1;34m()\u001b[0m\n\u001b[0;32m      1\u001b[0m \u001b[0msongs\u001b[0m \u001b[1;33m=\u001b[0m \u001b[1;33m{\u001b[0m\u001b[1;33m}\u001b[0m\u001b[1;33m\u001b[0m\u001b[0m\n\u001b[1;32m----> 2\u001b[1;33m \u001b[1;32mfor\u001b[0m \u001b[0mtitle\u001b[0m\u001b[1;33m,\u001b[0m \u001b[0martist\u001b[0m\u001b[1;33m,\u001b[0m \u001b[0mdirectory\u001b[0m \u001b[1;32min\u001b[0m \u001b[0mzip\u001b[0m\u001b[1;33m(\u001b[0m\u001b[0msongNames\u001b[0m\u001b[1;33m,\u001b[0m \u001b[0martistNames\u001b[0m\u001b[1;33m,\u001b[0m \u001b[0mdirNames\u001b[0m\u001b[1;33m)\u001b[0m\u001b[1;33m:\u001b[0m\u001b[1;33m\u001b[0m\u001b[0m\n\u001b[0m\u001b[0;32m      3\u001b[0m      \u001b[0msongs\u001b[0m\u001b[1;33m[\u001b[0m\u001b[0mtitle\u001b[0m\u001b[1;33m]\u001b[0m \u001b[1;33m=\u001b[0m \u001b[0mSongData\u001b[0m\u001b[1;33m(\u001b[0m\u001b[0mtitle\u001b[0m\u001b[1;33m,\u001b[0m \u001b[0martist\u001b[0m\u001b[1;33m,\u001b[0m \u001b[0mdirectory\u001b[0m\u001b[1;33m)\u001b[0m\u001b[1;33m\u001b[0m\u001b[0m\n",
      "\u001b[1;31mNameError\u001b[0m: name 'songNames' is not defined"
     ]
    }
   ],
   "source": [
    "songs = {}\n",
    "for title, artist, directory in zip(songNames, artistNames, dirNames):\n",
    "     songs[title] = SongData(title, artist, directory)"
   ]
  },
  {
   "cell_type": "code",
   "execution_count": 48,
   "metadata": {},
   "outputs": [],
   "source": [
    "dbbb = {}\n",
    "for n,i,j,k in zip(house_id,prices,des,bills):\n",
    "    dbbb[n]  = house(i,j,k)"
   ]
  },
  {
   "cell_type": "code",
   "execution_count": 53,
   "metadata": {},
   "outputs": [
    {
     "data": {
      "text/plain": [
       "'h0'"
      ]
     },
     "execution_count": 53,
     "metadata": {},
     "output_type": "execute_result"
    }
   ],
   "source": [
    "for n,i,j,k in zip(house_id,prices,des,bills):\n",
    "    dbbb[n]  = house(i,j,k)"
   ]
  },
  {
   "cell_type": "code",
   "execution_count": null,
   "metadata": {},
   "outputs": [],
   "source": [
    "house_list = {house_id: house(country) for country in countries}\n"
   ]
  },
  {
   "cell_type": "code",
   "execution_count": 60,
   "metadata": {},
   "outputs": [],
   "source": [
    "final_list  = zip(house_id,prices,des,bills)"
   ]
  },
  {
   "cell_type": "code",
   "execution_count": 61,
   "metadata": {
    "scrolled": true
   },
   "outputs": [
    {
     "data": {
      "text/plain": [
       "[('h0', '£215- £265pw', '2 doublesBow (E3)', ''),\n",
       " ('h1', '£760pcm', 'Double roomMile End (E3)', ''),\n",
       " ('h2', '£200- £220pw', '3 doublesMile End (E3)', 'Bills inc.'),\n",
       " ('h3', '£150- £160pw', '2 doublesMile End (E3)', 'Bills inc.'),\n",
       " ('h4', '£152- £179pw', '2 doublesMile End (E3)', 'Bills inc.'),\n",
       " ('h5', '£200pw', 'Double roomMile End (E3)', 'Bills inc.'),\n",
       " ('h6', '£671pcm', 'Double roomMile End (E3)', ''),\n",
       " ('h7', '£600pcm', 'Double roomMile End (E3)', ''),\n",
       " ('h8', '£210- £230pw', '3 doublesMile End (E3)', 'Bills inc.'),\n",
       " ('h9', '£190- £220pw', '3 doublesBow (E3)', 'Bills inc.'),\n",
       " ('h10', '£230pw', 'Double roomBow (E3)', '')]"
      ]
     },
     "execution_count": 61,
     "metadata": {},
     "output_type": "execute_result"
    }
   ],
   "source": [
    "list(final_list)"
   ]
  },
  {
   "cell_type": "code",
   "execution_count": 62,
   "metadata": {},
   "outputs": [
    {
     "ename": "TypeError",
     "evalue": "'zip' object is not callable",
     "output_type": "error",
     "traceback": [
      "\u001b[1;31m---------------------------------------------------------------------------\u001b[0m",
      "\u001b[1;31mTypeError\u001b[0m                                 Traceback (most recent call last)",
      "\u001b[1;32m<ipython-input-62-8ed7e61eab73>\u001b[0m in \u001b[0;36m<module>\u001b[1;34m()\u001b[0m\n\u001b[1;32m----> 1\u001b[1;33m \u001b[0mfinal_list\u001b[0m\u001b[1;33m(\u001b[0m\u001b[0mbills\u001b[0m\u001b[1;33m)\u001b[0m\u001b[1;33m\u001b[0m\u001b[0m\n\u001b[0m",
      "\u001b[1;31mTypeError\u001b[0m: 'zip' object is not callable"
     ]
    }
   ],
   "source": [
    "final_list(bills)"
   ]
  },
  {
   "cell_type": "code",
   "execution_count": 63,
   "metadata": {},
   "outputs": [
    {
     "data": {
      "text/plain": [
       "['2 doublesBow (E3)',\n",
       " 'Double roomMile End (E3)',\n",
       " '3 doublesMile End (E3)',\n",
       " '2 doublesMile End (E3)',\n",
       " '2 doublesMile End (E3)',\n",
       " 'Double roomMile End (E3)',\n",
       " 'Double roomMile End (E3)',\n",
       " 'Double roomMile End (E3)',\n",
       " '3 doublesMile End (E3)',\n",
       " '3 doublesBow (E3)',\n",
       " 'Double roomBow (E3)']"
      ]
     },
     "execution_count": 63,
     "metadata": {},
     "output_type": "execute_result"
    }
   ],
   "source": [
    "des"
   ]
  },
  {
   "cell_type": "code",
   "execution_count": 67,
   "metadata": {},
   "outputs": [
    {
     "ename": "AttributeError",
     "evalue": "'str' object has no attribute 'find_all'",
     "output_type": "error",
     "traceback": [
      "\u001b[1;31m---------------------------------------------------------------------------\u001b[0m",
      "\u001b[1;31mAttributeError\u001b[0m                            Traceback (most recent call last)",
      "\u001b[1;32m<ipython-input-67-10fd4af66396>\u001b[0m in \u001b[0;36m<module>\u001b[1;34m()\u001b[0m\n\u001b[0;32m      1\u001b[0m \u001b[1;32mfor\u001b[0m \u001b[0mi\u001b[0m \u001b[1;32min\u001b[0m \u001b[0mdes\u001b[0m\u001b[1;33m:\u001b[0m\u001b[1;33m\u001b[0m\u001b[0m\n\u001b[1;32m----> 2\u001b[1;33m     \u001b[0mi\u001b[0m\u001b[1;33m.\u001b[0m\u001b[0mfind_all\u001b[0m\u001b[1;33m(\u001b[0m\u001b[1;34m\"Mile\"\u001b[0m\u001b[1;33m)\u001b[0m\u001b[1;33m\u001b[0m\u001b[0m\n\u001b[0m",
      "\u001b[1;31mAttributeError\u001b[0m: 'str' object has no attribute 'find_all'"
     ]
    }
   ],
   "source": [
    "for i in des:\n",
    "    i.find_all(\"Mile\")"
   ]
  },
  {
   "cell_type": "code",
   "execution_count": 75,
   "metadata": {},
   "outputs": [
    {
     "data": {
      "text/plain": [
       "['doubles']"
      ]
     },
     "execution_count": 75,
     "metadata": {},
     "output_type": "execute_result"
    }
   ],
   "source": [
    "re.findall(\"doubles\", des[0])"
   ]
  },
  {
   "cell_type": "code",
   "execution_count": 98,
   "metadata": {
    "scrolled": true
   },
   "outputs": [
    {
     "ename": "SyntaxError",
     "evalue": "invalid syntax (<ipython-input-98-5c826b56e9ae>, line 7)",
     "output_type": "error",
     "traceback": [
      "\u001b[1;36m  File \u001b[1;32m\"<ipython-input-98-5c826b56e9ae>\"\u001b[1;36m, line \u001b[1;32m7\u001b[0m\n\u001b[1;33m    else:\u001b[0m\n\u001b[1;37m       ^\u001b[0m\n\u001b[1;31mSyntaxError\u001b[0m\u001b[1;31m:\u001b[0m invalid syntax\n"
     ]
    }
   ],
   "source": [
    "for i in range(len(roomt)):\n",
    "    for j in range(len(des)):\n",
    "        suc = re.findall(roomt[i],des[j])\n",
    "        if suc:\n",
    "            print(j.index('i')\n",
    "                  \n",
    "        else:\n",
    "                  print(\"\")\n",
    "   "
   ]
  },
  {
   "cell_type": "code",
   "execution_count": 164,
   "metadata": {},
   "outputs": [
    {
     "name": "stdout",
     "output_type": "stream",
     "text": [
      "2 doublesBow (E3)\n",
      "3 doublesMile End (E3)\n",
      "2 doublesMile End (E3)\n",
      "2 doublesMile End (E3)\n",
      "3 doublesMile End (E3)\n",
      "3 doublesBow (E3)\n"
     ]
    }
   ],
   "source": [
    "for i in range(len(roomt)):\n",
    "    for j in range(len(des)):\n",
    "        suc = re.findall(roomt[i],des[j])\n",
    "        if suc:\n",
    "#             print(\"y\",j,des[j])\n",
    "            k = des[j].index(roomt[i])\n",
    "            if k == 2:\n",
    "                    print(des[j])\n",
    "                \n",
    "#         if k == 2:\n",
    "#             print(des[j])\n",
    "#             des[j].split([des[j].index(roomt[i])])\n",
    "#             my_list = [des[j].split([des[j].index(roomt[i])])]\n",
    "    \n",
    "            \n",
    "#         else:\n",
    "#             print(\"no\",j,des[j])"
   ]
  },
  {
   "cell_type": "code",
   "execution_count": 116,
   "metadata": {},
   "outputs": [
    {
     "data": {
      "text/plain": [
       "'Double roomMile End (E3)'"
      ]
     },
     "execution_count": 116,
     "metadata": {},
     "output_type": "execute_result"
    }
   ],
   "source": [
    "[i.split('\\t', 1)[0] for i in l]"
   ]
  },
  {
   "cell_type": "code",
   "execution_count": null,
   "metadata": {},
   "outputs": [],
   "source": [
    "print(word.split(':')) \n"
   ]
  },
  {
   "cell_type": "code",
   "execution_count": 134,
   "metadata": {},
   "outputs": [],
   "source": [
    "xp = des[1]"
   ]
  },
  {
   "cell_type": "code",
   "execution_count": 135,
   "metadata": {},
   "outputs": [
    {
     "data": {
      "text/plain": [
       "'Double roomMile End (E3)'"
      ]
     },
     "execution_count": 135,
     "metadata": {},
     "output_type": "execute_result"
    }
   ],
   "source": [
    "xp"
   ]
  },
  {
   "cell_type": "code",
   "execution_count": 158,
   "metadata": {},
   "outputs": [
    {
     "name": "stdout",
     "output_type": "stream",
     "text": [
      "7\n"
     ]
    },
    {
     "ename": "TypeError",
     "evalue": "must be str or None, not list",
     "output_type": "error",
     "traceback": [
      "\u001b[1;31m---------------------------------------------------------------------------\u001b[0m",
      "\u001b[1;31mTypeError\u001b[0m                                 Traceback (most recent call last)",
      "\u001b[1;32m<ipython-input-158-faf94b9af775>\u001b[0m in \u001b[0;36m<module>\u001b[1;34m()\u001b[0m\n\u001b[0;32m      2\u001b[0m \u001b[1;32mif\u001b[0m \u001b[0msuc\u001b[0m\u001b[1;33m:\u001b[0m\u001b[1;33m\u001b[0m\u001b[0m\n\u001b[0;32m      3\u001b[0m     \u001b[0mprint\u001b[0m\u001b[1;33m(\u001b[0m\u001b[0mstr\u001b[0m\u001b[1;33m(\u001b[0m\u001b[0mxp\u001b[0m\u001b[1;33m.\u001b[0m\u001b[0mindex\u001b[0m\u001b[1;33m(\u001b[0m\u001b[1;34m\"room\"\u001b[0m\u001b[1;33m)\u001b[0m\u001b[1;33m)\u001b[0m\u001b[1;33m)\u001b[0m\u001b[1;33m\u001b[0m\u001b[0m\n\u001b[1;32m----> 4\u001b[1;33m     \u001b[0mxp\u001b[0m\u001b[1;33m.\u001b[0m\u001b[0msplit\u001b[0m\u001b[1;33m(\u001b[0m\u001b[1;33m[\u001b[0m\u001b[1;36m10\u001b[0m\u001b[1;33m]\u001b[0m\u001b[1;33m)\u001b[0m\u001b[1;33m\u001b[0m\u001b[0m\n\u001b[0m\u001b[0;32m      5\u001b[0m \u001b[1;33m\u001b[0m\u001b[0m\n",
      "\u001b[1;31mTypeError\u001b[0m: must be str or None, not list"
     ]
    }
   ],
   "source": [
    "suc = re.findall(\"room\",xp)\n",
    "if suc:\n",
    "    print(str(xp.index(\"room\")))\n",
    "    xp.split([10])\n",
    "    "
   ]
  },
  {
   "cell_type": "code",
   "execution_count": 166,
   "metadata": {},
   "outputs": [
    {
     "name": "stdout",
     "output_type": "stream",
     "text": [
      "2 doublesBow (E3)\n",
      "3 doublesMile End (E3)\n",
      "2 doublesMile End (E3)\n",
      "2 doublesMile End (E3)\n",
      "3 doublesMile End (E3)\n",
      "3 doublesBow (E3)\n",
      "Double roomMile End (E3)\n",
      "Double roomMile End (E3)\n",
      "Double roomMile End (E3)\n",
      "Double roomMile End (E3)\n",
      "Double roomBow (E3)\n"
     ]
    }
   ],
   "source": [
    "for i in range(len(roomt)):\n",
    "    for j in range(len(des)):\n",
    "        suc = re.findall(roomt[i],des[j])\n",
    "        if suc:\n",
    "            print(des[j])"
   ]
  },
  {
   "cell_type": "code",
   "execution_count": 1,
   "metadata": {},
   "outputs": [
    {
     "name": "stdout",
     "output_type": "stream",
     "text": [
      "Commit\n"
     ]
    }
   ],
   "source": [
    "print(\"Commit\")"
   ]
  },
  {
   "cell_type": "code",
   "execution_count": null,
   "metadata": {},
   "outputs": [],
   "source": []
  }
 ],
 "metadata": {
  "kernelspec": {
   "display_name": "Python 3",
   "language": "python",
   "name": "python3"
  },
  "language_info": {
   "codemirror_mode": {
    "name": "ipython",
    "version": 3
   },
   "file_extension": ".py",
   "mimetype": "text/x-python",
   "name": "python",
   "nbconvert_exporter": "python",
   "pygments_lexer": "ipython3",
   "version": "3.6.5"
  }
 },
 "nbformat": 4,
 "nbformat_minor": 2
}
